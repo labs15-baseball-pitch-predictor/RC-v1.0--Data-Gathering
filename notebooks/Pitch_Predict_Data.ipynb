{
  "nbformat": 4,
  "nbformat_minor": 0,
  "metadata": {
    "colab": {
      "name": "Pitch Predict Data.ipynb",
      "version": "0.3.2",
      "provenance": []
    },
    "kernelspec": {
      "name": "python3",
      "display_name": "Python 3"
    }
  },
  "cells": [
    {
      "cell_type": "markdown",
      "metadata": {
        "id": "HgNH0SWSquUD",
        "colab_type": "text"
      },
      "source": [
        "# Imports and Documantation Links"
      ]
    },
    {
      "cell_type": "markdown",
      "metadata": {
        "id": "geN2FjOvkABy",
        "colab_type": "text"
      },
      "source": [
        "[PyBaseball](https://github.com/jldbc/pybaseball)"
      ]
    },
    {
      "cell_type": "markdown",
      "metadata": {
        "id": "dvqv8Z8rkxfw",
        "colab_type": "text"
      },
      "source": [
        "[Statcast Documentation](https://baseballsavant.mlb.com/csv-docs)"
      ]
    },
    {
      "cell_type": "markdown",
      "metadata": {
        "id": "QmsESHmPk356",
        "colab_type": "text"
      },
      "source": [
        "[MLB Stats API Documentation](https://appac.github.io/mlb-data-api-docs/#game-data-game-type-info-get)"
      ]
    },
    {
      "cell_type": "markdown",
      "metadata": {
        "id": "qRVDtOshLUwy",
        "colab_type": "text"
      },
      "source": [
        "[My Sports Feed](https://www.mysportsfeeds.com/data-feeds/api-docs)"
      ]
    },
    {
      "cell_type": "markdown",
      "metadata": {
        "id": "pGIvY6hjhi_s",
        "colab_type": "text"
      },
      "source": [
        "[sports radar](https://sportradar.us/)"
      ]
    },
    {
      "cell_type": "code",
      "metadata": {
        "id": "OFHXJjYuha5L",
        "colab_type": "code",
        "outputId": "caf760a4-ff2f-4424-da11-0b5df42066e3",
        "colab": {
          "base_uri": "https://localhost:8080/",
          "height": 415
        }
      },
      "source": [
        "pip install pybaseball"
      ],
      "execution_count": 1,
      "outputs": [
        {
          "output_type": "stream",
          "text": [
            "Collecting pybaseball\n",
            "  Downloading https://files.pythonhosted.org/packages/63/00/31891da5b632821864411d5b3327df137e93d0bce118d94e9d0f6baa5c00/pybaseball-1.0.8.tar.gz\n",
            "Requirement already satisfied: numpy>=1.13.0 in /usr/local/lib/python3.6/dist-packages (from pybaseball) (1.16.4)\n",
            "Requirement already satisfied: pandas>=0.20.2 in /usr/local/lib/python3.6/dist-packages (from pybaseball) (0.24.2)\n",
            "Requirement already satisfied: beautifulsoup4>=4.4.0 in /usr/local/lib/python3.6/dist-packages (from pybaseball) (4.6.3)\n",
            "Requirement already satisfied: requests>=2.18.1 in /usr/local/lib/python3.6/dist-packages (from pybaseball) (2.21.0)\n",
            "Requirement already satisfied: lxml>=4.2.1 in /usr/local/lib/python3.6/dist-packages (from pybaseball) (4.2.6)\n",
            "Requirement already satisfied: python-dateutil>=2.5.0 in /usr/local/lib/python3.6/dist-packages (from pandas>=0.20.2->pybaseball) (2.5.3)\n",
            "Requirement already satisfied: pytz>=2011k in /usr/local/lib/python3.6/dist-packages (from pandas>=0.20.2->pybaseball) (2018.9)\n",
            "Requirement already satisfied: idna<2.9,>=2.5 in /usr/local/lib/python3.6/dist-packages (from requests>=2.18.1->pybaseball) (2.8)\n",
            "Requirement already satisfied: chardet<3.1.0,>=3.0.2 in /usr/local/lib/python3.6/dist-packages (from requests>=2.18.1->pybaseball) (3.0.4)\n",
            "Requirement already satisfied: certifi>=2017.4.17 in /usr/local/lib/python3.6/dist-packages (from requests>=2.18.1->pybaseball) (2019.6.16)\n",
            "Requirement already satisfied: urllib3<1.25,>=1.21.1 in /usr/local/lib/python3.6/dist-packages (from requests>=2.18.1->pybaseball) (1.24.3)\n",
            "Requirement already satisfied: six>=1.5 in /usr/local/lib/python3.6/dist-packages (from python-dateutil>=2.5.0->pandas>=0.20.2->pybaseball) (1.12.0)\n",
            "Building wheels for collected packages: pybaseball\n",
            "  Building wheel for pybaseball (setup.py) ... \u001b[?25l\u001b[?25hdone\n",
            "  Created wheel for pybaseball: filename=pybaseball-1.0.8-cp36-none-any.whl size=36008 sha256=9e055646128cd693d041e7212bdd0368a1d04135c6189ff68f5badd51a455d14\n",
            "  Stored in directory: /root/.cache/pip/wheels/d5/7b/fb/b1f8a38eb135628a747627977fd18d13ce2c210cffa08ee5a5\n",
            "Successfully built pybaseball\n",
            "Installing collected packages: pybaseball\n",
            "Successfully installed pybaseball-1.0.8\n"
          ],
          "name": "stdout"
        }
      ]
    },
    {
      "cell_type": "code",
      "metadata": {
        "id": "hrTObRiY8k3V",
        "colab_type": "code",
        "colab": {}
      },
      "source": [
        "import requests\n",
        "import pandas as pd\n",
        "pd.set_option('display.max_columns', 500)\n",
        "pd.set_option('display.width', 1000)\n",
        "from pybaseball import statcast\n",
        "from pybaseball import playerid_lookup\n",
        "from pybaseball import statcast_pitcher\n",
        "from pybaseball import pitching_stats\n",
        "from pybaseball import schedule_and_record\n",
        "from pybaseball import statcast_single_game"
      ],
      "execution_count": 0,
      "outputs": []
    },
    {
      "cell_type": "markdown",
      "metadata": {
        "id": "acSRTFJrYeo1",
        "colab_type": "text"
      },
      "source": [
        "\n",
        "\n",
        "---\n",
        "\n"
      ]
    },
    {
      "cell_type": "markdown",
      "metadata": {
        "id": "AXbhM7uRqrgX",
        "colab_type": "text"
      },
      "source": [
        "# Create Objects"
      ]
    },
    {
      "cell_type": "code",
      "metadata": {
        "id": "mQP_mP4BqEP8",
        "colab_type": "code",
        "colab": {}
      },
      "source": [
        "class Player:\n",
        "  \n",
        "  \n",
        "  def __init__(self, player_name):\n",
        "    input_ = \"\\'\" + player_name +\"\\'\"\n",
        "    self.request = requests.get(\"http://lookup-service-prod.mlb.com/json/named.search_player_all.bam?sport_code='mlb'&active_sw='Y'&name_part=\" + input_)\n",
        "    self.profile = self.request.json()['search_player_all']['queryResults']['row']\n",
        "    self.name = self.profile['name_display_first_last']\n",
        "    self.id = self.profile['player_id']\n",
        "    self.team = self.profile['team_full']\n",
        "    self.position = self.profile['position']\n",
        "    \n",
        "    \n",
        "  def __repr__(self):\n",
        "    return(\"Name: %s\\nID: %s\\nTeam: %s\\nPosition: %s\" % (self.name, self.id, self.team, self.position))\n",
        "  \n",
        "  "
      ],
      "execution_count": 0,
      "outputs": []
    },
    {
      "cell_type": "code",
      "metadata": {
        "id": "q2sPL0iKCHiP",
        "colab_type": "code",
        "colab": {}
      },
      "source": [
        "class Pitcher(Player):\n",
        "  \n",
        "  \n",
        "  def pitching_stats(self, season, game_type = 'R'):\n",
        "    player_id = str(self.id)\n",
        "    request = requests.get(\"http://lookup-service-prod.mlb.com/json/named.sport_pitching_tm.bam?league_list_id='mlb'&game_type='\" + game_type + \"'&season='\" + str(season) + \"'&player_id='\" + player_id + \"'\")\n",
        "    self.pitching_stats = pd.Series(request.json()['sport_pitching_tm']['queryResults']['row'])\n",
        "    return self.pitching_stats\n",
        "  \n",
        "  \n",
        "  def pitches(self, start_date, end_date): # Date format 'XXXX-XX-XX'\n",
        "    data = statcast(start_dt=start_date, end_dt=end_date)\n",
        "    data['player_name'] = data['player_name'].astype(str)\n",
        "    condition = data['player_name'] == self.name\n",
        "    pitches = data.where(condition).dropna(axis = 0, thresh = 50)\n",
        "    pitches = pitches.drop(columns = ['spin_dir','spin_rate_deprecated', \n",
        "             'break_angle_deprecated','break_length_deprecated', 'game_type',\n",
        "             'tfs_deprecated', 'tfs_zulu_deprecated', 'umpire'])\n",
        "    \n",
        "    pitches = pitches.sort_values(by = ['game_date', 'at_bat_number', 'pitch_number'])\n",
        "    #pitches['Pitch_id'] = range(1, Coreys_pitches.shape[0] + 1)\n",
        "    return pitches\n",
        "    "
      ],
      "execution_count": 0,
      "outputs": []
    },
    {
      "cell_type": "code",
      "metadata": {
        "id": "arENy6BVIg76",
        "colab_type": "code",
        "colab": {}
      },
      "source": [
        "class Batter(Player):\n",
        "  pass"
      ],
      "execution_count": 0,
      "outputs": []
    },
    {
      "cell_type": "code",
      "metadata": {
        "id": "5FtHr4p7D6tO",
        "colab_type": "code",
        "colab": {}
      },
      "source": [
        "class Game:\n",
        "  \n",
        "  def __init__(self, game_id):\n",
        "    self.data = statcast_single_game(game_id)\n",
        "    self.pitches_thrown = self.data.shape[0]\n",
        "    self.game_date = self.data['game_date'][0]\n",
        "    self.home_team = self.data['home_team'][0]\n",
        "    self.away_team = self.data['away_team'][0]\n",
        "    #at bat order list of at bat ID #s\n",
        "    \n",
        "    \n",
        "    \n",
        "  def __repr__(self):\n",
        "    return(\"Game Date: %s\\nHome: %s\\nAway: %s\\nPitches Thrown: %s\" % (self.game_date, self.home_team, self.away_team, self.pitches_thrown))"
      ],
      "execution_count": 0,
      "outputs": []
    },
    {
      "cell_type": "code",
      "metadata": {
        "id": "o5Zd0FglbP8D",
        "colab_type": "code",
        "colab": {}
      },
      "source": [
        "class Inning:\n",
        "  \n",
        "  \n",
        "  def __init__(self, game_id, inning_number):\n",
        "    pass\n",
        "  \n",
        "  \n",
        "  def __repr__(self):\n",
        "    pass\n",
        "  \n",
        "  \n",
        "  def top(self):\n",
        "    pass\n",
        "  \n",
        "  \n",
        "  def bottom(self):\n",
        "    pass\n",
        "  "
      ],
      "execution_count": 0,
      "outputs": []
    },
    {
      "cell_type": "code",
      "metadata": {
        "id": "MAX8trUcHvB0",
        "colab_type": "code",
        "colab": {}
      },
      "source": [
        "class At_bat:\n",
        "  \n",
        "  \n",
        "  def __init__(self, game_id, inning_number):\n",
        "    pass\n",
        "  \n",
        "  \n",
        "  def __repr__(self):\n",
        "    pass"
      ],
      "execution_count": 0,
      "outputs": []
    },
    {
      "cell_type": "markdown",
      "metadata": {
        "id": "ciF0pU3lYduc",
        "colab_type": "text"
      },
      "source": [
        "\n",
        "\n",
        "---\n",
        "\n"
      ]
    },
    {
      "cell_type": "markdown",
      "metadata": {
        "id": "3YS6rrD0qnMQ",
        "colab_type": "text"
      },
      "source": [
        "# Example"
      ]
    },
    {
      "cell_type": "markdown",
      "metadata": {
        "id": "kSWdrrauYRFA",
        "colab_type": "text"
      },
      "source": [
        "## Player"
      ]
    },
    {
      "cell_type": "code",
      "metadata": {
        "id": "AOekJiD_Dsd6",
        "colab_type": "code",
        "outputId": "90805f96-9ff4-4427-ebd7-df36ae266a0e",
        "colab": {
          "base_uri": "https://localhost:8080/",
          "height": 89
        }
      },
      "source": [
        "Corey = Pitcher('Corey_Kluber')\n",
        "\n",
        "Corey"
      ],
      "execution_count": 9,
      "outputs": [
        {
          "output_type": "execute_result",
          "data": {
            "text/plain": [
              "Name: Corey Kluber\n",
              "ID: 446372\n",
              "Team: Cleveland Indians\n",
              "Position: P"
            ]
          },
          "metadata": {
            "tags": []
          },
          "execution_count": 9
        }
      ]
    },
    {
      "cell_type": "markdown",
      "metadata": {
        "id": "MJeFp8vtYVkb",
        "colab_type": "text"
      },
      "source": [
        "## Pitches"
      ]
    },
    {
      "cell_type": "code",
      "metadata": {
        "id": "5vdqH7PLJu7S",
        "colab_type": "code",
        "outputId": "41592e2f-e22e-4073-9682-06382cac8d3c",
        "colab": {
          "base_uri": "https://localhost:8080/",
          "height": 35
        }
      },
      "source": [
        "coreys_stats = Corey.pitching_stats(season = 2017)\n",
        "coreys_stats['era']"
      ],
      "execution_count": 10,
      "outputs": [
        {
          "output_type": "execute_result",
          "data": {
            "text/plain": [
              "'2.25'"
            ]
          },
          "metadata": {
            "tags": []
          },
          "execution_count": 10
        }
      ]
    },
    {
      "cell_type": "code",
      "metadata": {
        "id": "5tYrN0-HKdPN",
        "colab_type": "code",
        "outputId": "e7b6cf46-d27b-4075-d2bc-17b832428601",
        "colab": {
          "base_uri": "https://localhost:8080/",
          "height": 683
        }
      },
      "source": [
        "Coreys_pitches = Corey.pitches('2017-04-02', '2017-11-01')"
      ],
      "execution_count": 11,
      "outputs": [
        {
          "output_type": "stream",
          "text": [
            "This is a large query, it may take a moment to complete\n",
            "Completed sub-query from 2017-04-02 to 2017-04-07\n",
            "Completed sub-query from 2017-04-08 to 2017-04-13\n",
            "Completed sub-query from 2017-04-14 to 2017-04-19\n",
            "Completed sub-query from 2017-04-20 to 2017-04-25\n",
            "Completed sub-query from 2017-04-26 to 2017-05-01\n",
            "Completed sub-query from 2017-05-02 to 2017-05-07\n",
            "Completed sub-query from 2017-05-08 to 2017-05-13\n",
            "Completed sub-query from 2017-05-14 to 2017-05-19\n",
            "Completed sub-query from 2017-05-20 to 2017-05-25\n",
            "Completed sub-query from 2017-05-26 to 2017-05-31\n",
            "Completed sub-query from 2017-06-01 to 2017-06-06\n",
            "Completed sub-query from 2017-06-07 to 2017-06-12\n",
            "Completed sub-query from 2017-06-13 to 2017-06-18\n",
            "Completed sub-query from 2017-06-19 to 2017-06-24\n",
            "Completed sub-query from 2017-06-25 to 2017-06-30\n",
            "Completed sub-query from 2017-07-01 to 2017-07-06\n",
            "Completed sub-query from 2017-07-07 to 2017-07-12\n",
            "Completed sub-query from 2017-07-13 to 2017-07-18\n",
            "Completed sub-query from 2017-07-19 to 2017-07-24\n",
            "Completed sub-query from 2017-07-25 to 2017-07-30\n",
            "Completed sub-query from 2017-07-31 to 2017-08-05\n",
            "Completed sub-query from 2017-08-06 to 2017-08-11\n",
            "Completed sub-query from 2017-08-12 to 2017-08-17\n",
            "Completed sub-query from 2017-08-18 to 2017-08-23\n",
            "Completed sub-query from 2017-08-24 to 2017-08-29\n",
            "Completed sub-query from 2017-08-30 to 2017-09-04\n",
            "Completed sub-query from 2017-09-05 to 2017-09-10\n",
            "Completed sub-query from 2017-09-11 to 2017-09-16\n",
            "Completed sub-query from 2017-09-17 to 2017-09-22\n",
            "Completed sub-query from 2017-09-23 to 2017-09-28\n",
            "Completed sub-query from 2017-09-29 to 2017-10-04\n",
            "Completed sub-query from 2017-10-05 to 2017-10-10\n",
            "Completed sub-query from 2017-10-11 to 2017-10-16\n",
            "Completed sub-query from 2017-10-17 to 2017-10-22\n",
            "Completed sub-query from 2017-10-23 to 2017-10-28\n",
            "Completed sub-query from 2017-10-29 to 2017-11-01\n"
          ],
          "name": "stdout"
        }
      ]
    },
    {
      "cell_type": "markdown",
      "metadata": {
        "id": "WvStr64kYXe-",
        "colab_type": "text"
      },
      "source": [
        "## Game"
      ]
    },
    {
      "cell_type": "code",
      "metadata": {
        "id": "Ndu7svhqUO-S",
        "colab_type": "code",
        "colab": {
          "base_uri": "https://localhost:8080/",
          "height": 89
        },
        "outputId": "e1c2cbd4-0827-4224-97df-e0944316d253"
      },
      "source": [
        "sample_game = Game(490100)\n",
        "sample_game"
      ],
      "execution_count": 12,
      "outputs": [
        {
          "output_type": "execute_result",
          "data": {
            "text/plain": [
              "Game Date: 2017-04-03 00:00:00\n",
              "Home: TEX\n",
              "Away: CLE\n",
              "Pitches Thrown: 306"
            ]
          },
          "metadata": {
            "tags": []
          },
          "execution_count": 12
        }
      ]
    },
    {
      "cell_type": "code",
      "metadata": {
        "id": "Jl1YE60fU_0b",
        "colab_type": "code",
        "colab": {
          "base_uri": "https://localhost:8080/",
          "height": 197
        },
        "outputId": "a09e0fbe-cb2d-46d7-9ddd-4d1eb4b6b230"
      },
      "source": [
        "sample_game.data['inning'].value_counts()"
      ],
      "execution_count": 13,
      "outputs": [
        {
          "output_type": "execute_result",
          "data": {
            "text/plain": [
              "9.0    46\n",
              "3.0    38\n",
              "5.0    38\n",
              "6.0    34\n",
              "7.0    33\n",
              "1.0    31\n",
              "8.0    31\n",
              "4.0    28\n",
              "2.0    27\n",
              "Name: inning, dtype: int64"
            ]
          },
          "metadata": {
            "tags": []
          },
          "execution_count": 13
        }
      ]
    },
    {
      "cell_type": "code",
      "metadata": {
        "id": "JCWQuasv9gGx",
        "colab_type": "code",
        "colab": {
          "base_uri": "https://localhost:8080/",
          "height": 411
        },
        "outputId": "441d65e3-20c7-4ea6-b42c-4068d007406c"
      },
      "source": [
        "sample_game.data.head()"
      ],
      "execution_count": 21,
      "outputs": [
        {
          "output_type": "execute_result",
          "data": {
            "text/html": [
              "<div>\n",
              "<style scoped>\n",
              "    .dataframe tbody tr th:only-of-type {\n",
              "        vertical-align: middle;\n",
              "    }\n",
              "\n",
              "    .dataframe tbody tr th {\n",
              "        vertical-align: top;\n",
              "    }\n",
              "\n",
              "    .dataframe thead th {\n",
              "        text-align: right;\n",
              "    }\n",
              "</style>\n",
              "<table border=\"1\" class=\"dataframe\">\n",
              "  <thead>\n",
              "    <tr style=\"text-align: right;\">\n",
              "      <th></th>\n",
              "      <th>index</th>\n",
              "      <th>pitch_type</th>\n",
              "      <th>game_date</th>\n",
              "      <th>release_speed</th>\n",
              "      <th>release_pos_x</th>\n",
              "      <th>release_pos_z</th>\n",
              "      <th>player_name</th>\n",
              "      <th>batter</th>\n",
              "      <th>pitcher</th>\n",
              "      <th>events</th>\n",
              "      <th>description</th>\n",
              "      <th>spin_dir</th>\n",
              "      <th>spin_rate_deprecated</th>\n",
              "      <th>break_angle_deprecated</th>\n",
              "      <th>break_length_deprecated</th>\n",
              "      <th>zone</th>\n",
              "      <th>des</th>\n",
              "      <th>game_type</th>\n",
              "      <th>stand</th>\n",
              "      <th>p_throws</th>\n",
              "      <th>home_team</th>\n",
              "      <th>away_team</th>\n",
              "      <th>type</th>\n",
              "      <th>hit_location</th>\n",
              "      <th>bb_type</th>\n",
              "      <th>balls</th>\n",
              "      <th>strikes</th>\n",
              "      <th>game_year</th>\n",
              "      <th>pfx_x</th>\n",
              "      <th>pfx_z</th>\n",
              "      <th>plate_x</th>\n",
              "      <th>plate_z</th>\n",
              "      <th>on_3b</th>\n",
              "      <th>on_2b</th>\n",
              "      <th>on_1b</th>\n",
              "      <th>outs_when_up</th>\n",
              "      <th>inning</th>\n",
              "      <th>inning_topbot</th>\n",
              "      <th>hc_x</th>\n",
              "      <th>hc_y</th>\n",
              "      <th>tfs_deprecated</th>\n",
              "      <th>tfs_zulu_deprecated</th>\n",
              "      <th>fielder_2</th>\n",
              "      <th>umpire</th>\n",
              "      <th>sv_id</th>\n",
              "      <th>vx0</th>\n",
              "      <th>vy0</th>\n",
              "      <th>vz0</th>\n",
              "      <th>ax</th>\n",
              "      <th>ay</th>\n",
              "      <th>az</th>\n",
              "      <th>sz_top</th>\n",
              "      <th>sz_bot</th>\n",
              "      <th>hit_distance_sc</th>\n",
              "      <th>launch_speed</th>\n",
              "      <th>launch_angle</th>\n",
              "      <th>effective_speed</th>\n",
              "      <th>release_spin_rate</th>\n",
              "      <th>release_extension</th>\n",
              "      <th>game_pk</th>\n",
              "      <th>pitcher.1</th>\n",
              "      <th>fielder_2.1</th>\n",
              "      <th>fielder_3</th>\n",
              "      <th>fielder_4</th>\n",
              "      <th>fielder_5</th>\n",
              "      <th>fielder_6</th>\n",
              "      <th>fielder_7</th>\n",
              "      <th>fielder_8</th>\n",
              "      <th>fielder_9</th>\n",
              "      <th>release_pos_y</th>\n",
              "      <th>estimated_ba_using_speedangle</th>\n",
              "      <th>estimated_woba_using_speedangle</th>\n",
              "      <th>woba_value</th>\n",
              "      <th>woba_denom</th>\n",
              "      <th>babip_value</th>\n",
              "      <th>iso_value</th>\n",
              "      <th>launch_speed_angle</th>\n",
              "      <th>at_bat_number</th>\n",
              "      <th>pitch_number</th>\n",
              "      <th>pitch_name</th>\n",
              "      <th>home_score</th>\n",
              "      <th>away_score</th>\n",
              "      <th>bat_score</th>\n",
              "      <th>fld_score</th>\n",
              "      <th>post_away_score</th>\n",
              "      <th>post_home_score</th>\n",
              "      <th>post_bat_score</th>\n",
              "      <th>post_fld_score</th>\n",
              "      <th>if_fielding_alignment</th>\n",
              "      <th>of_fielding_alignment</th>\n",
              "    </tr>\n",
              "  </thead>\n",
              "  <tbody>\n",
              "    <tr>\n",
              "      <th>0</th>\n",
              "      <td>0</td>\n",
              "      <td>KC</td>\n",
              "      <td>2017-04-03</td>\n",
              "      <td>84.6</td>\n",
              "      <td>-1.5393</td>\n",
              "      <td>5.6374</td>\n",
              "      <td>Carlos Gomez</td>\n",
              "      <td>460576.0</td>\n",
              "      <td>592102.0</td>\n",
              "      <td>strikeout</td>\n",
              "      <td>swinging_strike</td>\n",
              "      <td>NaN</td>\n",
              "      <td>NaN</td>\n",
              "      <td>NaN</td>\n",
              "      <td>NaN</td>\n",
              "      <td>14.0</td>\n",
              "      <td>Carlos Gomez strikes out swinging.</td>\n",
              "      <td>R</td>\n",
              "      <td>R</td>\n",
              "      <td>R</td>\n",
              "      <td>TEX</td>\n",
              "      <td>CLE</td>\n",
              "      <td>S</td>\n",
              "      <td>2.0</td>\n",
              "      <td>NaN</td>\n",
              "      <td>0.0</td>\n",
              "      <td>2.0</td>\n",
              "      <td>2017.0</td>\n",
              "      <td>0.5315</td>\n",
              "      <td>-1.0157</td>\n",
              "      <td>1.0428</td>\n",
              "      <td>1.4096</td>\n",
              "      <td>462101.0</td>\n",
              "      <td>NaN</td>\n",
              "      <td>NaN</td>\n",
              "      <td>2.0</td>\n",
              "      <td>9.0</td>\n",
              "      <td>Bot</td>\n",
              "      <td>NaN</td>\n",
              "      <td>NaN</td>\n",
              "      <td>NaN</td>\n",
              "      <td>NaN</td>\n",
              "      <td>543228.0</td>\n",
              "      <td>NaN</td>\n",
              "      <td>170404_023108</td>\n",
              "      <td>4.9348</td>\n",
              "      <td>-122.9803</td>\n",
              "      <td>-1.4413</td>\n",
              "      <td>4.2007</td>\n",
              "      <td>26.5864</td>\n",
              "      <td>-42.1888</td>\n",
              "      <td>3.45</td>\n",
              "      <td>1.58</td>\n",
              "      <td>NaN</td>\n",
              "      <td>NaN</td>\n",
              "      <td>NaN</td>\n",
              "      <td>83.564</td>\n",
              "      <td>2644.0</td>\n",
              "      <td>5.864</td>\n",
              "      <td>490100.0</td>\n",
              "      <td>592102.0</td>\n",
              "      <td>543228.0</td>\n",
              "      <td>429665.0</td>\n",
              "      <td>608070.0</td>\n",
              "      <td>492841.0</td>\n",
              "      <td>596019.0</td>\n",
              "      <td>488726.0</td>\n",
              "      <td>571980.0</td>\n",
              "      <td>501659.0</td>\n",
              "      <td>54.6331</td>\n",
              "      <td>NaN</td>\n",
              "      <td>NaN</td>\n",
              "      <td>0.0</td>\n",
              "      <td>1.0</td>\n",
              "      <td>0.0</td>\n",
              "      <td>0.0</td>\n",
              "      <td>NaN</td>\n",
              "      <td>77.0</td>\n",
              "      <td>3.0</td>\n",
              "      <td>Knuckle Curve</td>\n",
              "      <td>5.0</td>\n",
              "      <td>8.0</td>\n",
              "      <td>5.0</td>\n",
              "      <td>8.0</td>\n",
              "      <td>8.0</td>\n",
              "      <td>5.0</td>\n",
              "      <td>5.0</td>\n",
              "      <td>8.0</td>\n",
              "      <td>Standard</td>\n",
              "      <td>Standard</td>\n",
              "    </tr>\n",
              "    <tr>\n",
              "      <th>1</th>\n",
              "      <td>1</td>\n",
              "      <td>KC</td>\n",
              "      <td>2017-04-03</td>\n",
              "      <td>83.7</td>\n",
              "      <td>-1.6578</td>\n",
              "      <td>5.5539</td>\n",
              "      <td>Carlos Gomez</td>\n",
              "      <td>460576.0</td>\n",
              "      <td>592102.0</td>\n",
              "      <td>NaN</td>\n",
              "      <td>called_strike</td>\n",
              "      <td>NaN</td>\n",
              "      <td>NaN</td>\n",
              "      <td>NaN</td>\n",
              "      <td>NaN</td>\n",
              "      <td>4.0</td>\n",
              "      <td>NaN</td>\n",
              "      <td>R</td>\n",
              "      <td>R</td>\n",
              "      <td>R</td>\n",
              "      <td>TEX</td>\n",
              "      <td>CLE</td>\n",
              "      <td>S</td>\n",
              "      <td>NaN</td>\n",
              "      <td>NaN</td>\n",
              "      <td>0.0</td>\n",
              "      <td>1.0</td>\n",
              "      <td>2017.0</td>\n",
              "      <td>0.8444</td>\n",
              "      <td>-0.6145</td>\n",
              "      <td>-0.6921</td>\n",
              "      <td>2.7941</td>\n",
              "      <td>462101.0</td>\n",
              "      <td>NaN</td>\n",
              "      <td>NaN</td>\n",
              "      <td>2.0</td>\n",
              "      <td>9.0</td>\n",
              "      <td>Bot</td>\n",
              "      <td>NaN</td>\n",
              "      <td>NaN</td>\n",
              "      <td>NaN</td>\n",
              "      <td>NaN</td>\n",
              "      <td>543228.0</td>\n",
              "      <td>NaN</td>\n",
              "      <td>170404_023048</td>\n",
              "      <td>0.5802</td>\n",
              "      <td>-121.7593</td>\n",
              "      <td>1.3121</td>\n",
              "      <td>8.0885</td>\n",
              "      <td>26.6710</td>\n",
              "      <td>-38.7018</td>\n",
              "      <td>3.45</td>\n",
              "      <td>1.58</td>\n",
              "      <td>NaN</td>\n",
              "      <td>NaN</td>\n",
              "      <td>NaN</td>\n",
              "      <td>82.798</td>\n",
              "      <td>2584.0</td>\n",
              "      <td>5.965</td>\n",
              "      <td>490100.0</td>\n",
              "      <td>592102.0</td>\n",
              "      <td>543228.0</td>\n",
              "      <td>429665.0</td>\n",
              "      <td>608070.0</td>\n",
              "      <td>492841.0</td>\n",
              "      <td>596019.0</td>\n",
              "      <td>488726.0</td>\n",
              "      <td>571980.0</td>\n",
              "      <td>501659.0</td>\n",
              "      <td>54.5314</td>\n",
              "      <td>NaN</td>\n",
              "      <td>NaN</td>\n",
              "      <td>NaN</td>\n",
              "      <td>NaN</td>\n",
              "      <td>NaN</td>\n",
              "      <td>NaN</td>\n",
              "      <td>NaN</td>\n",
              "      <td>77.0</td>\n",
              "      <td>2.0</td>\n",
              "      <td>Knuckle Curve</td>\n",
              "      <td>5.0</td>\n",
              "      <td>8.0</td>\n",
              "      <td>5.0</td>\n",
              "      <td>8.0</td>\n",
              "      <td>8.0</td>\n",
              "      <td>5.0</td>\n",
              "      <td>5.0</td>\n",
              "      <td>8.0</td>\n",
              "      <td>Standard</td>\n",
              "      <td>Standard</td>\n",
              "    </tr>\n",
              "    <tr>\n",
              "      <th>2</th>\n",
              "      <td>2</td>\n",
              "      <td>KC</td>\n",
              "      <td>2017-04-03</td>\n",
              "      <td>84.1</td>\n",
              "      <td>-1.6668</td>\n",
              "      <td>5.4890</td>\n",
              "      <td>Carlos Gomez</td>\n",
              "      <td>460576.0</td>\n",
              "      <td>592102.0</td>\n",
              "      <td>NaN</td>\n",
              "      <td>swinging_strike</td>\n",
              "      <td>NaN</td>\n",
              "      <td>NaN</td>\n",
              "      <td>NaN</td>\n",
              "      <td>NaN</td>\n",
              "      <td>14.0</td>\n",
              "      <td>NaN</td>\n",
              "      <td>R</td>\n",
              "      <td>R</td>\n",
              "      <td>R</td>\n",
              "      <td>TEX</td>\n",
              "      <td>CLE</td>\n",
              "      <td>S</td>\n",
              "      <td>NaN</td>\n",
              "      <td>NaN</td>\n",
              "      <td>0.0</td>\n",
              "      <td>0.0</td>\n",
              "      <td>2017.0</td>\n",
              "      <td>0.5896</td>\n",
              "      <td>-1.0271</td>\n",
              "      <td>0.3171</td>\n",
              "      <td>1.3011</td>\n",
              "      <td>462101.0</td>\n",
              "      <td>NaN</td>\n",
              "      <td>NaN</td>\n",
              "      <td>2.0</td>\n",
              "      <td>9.0</td>\n",
              "      <td>Bot</td>\n",
              "      <td>NaN</td>\n",
              "      <td>NaN</td>\n",
              "      <td>NaN</td>\n",
              "      <td>NaN</td>\n",
              "      <td>543228.0</td>\n",
              "      <td>NaN</td>\n",
              "      <td>170404_023028</td>\n",
              "      <td>3.4276</td>\n",
              "      <td>-122.3673</td>\n",
              "      <td>-1.2677</td>\n",
              "      <td>5.1308</td>\n",
              "      <td>25.4337</td>\n",
              "      <td>-42.3302</td>\n",
              "      <td>3.45</td>\n",
              "      <td>1.58</td>\n",
              "      <td>NaN</td>\n",
              "      <td>NaN</td>\n",
              "      <td>NaN</td>\n",
              "      <td>83.590</td>\n",
              "      <td>2731.0</td>\n",
              "      <td>6.075</td>\n",
              "      <td>490100.0</td>\n",
              "      <td>592102.0</td>\n",
              "      <td>543228.0</td>\n",
              "      <td>429665.0</td>\n",
              "      <td>608070.0</td>\n",
              "      <td>492841.0</td>\n",
              "      <td>596019.0</td>\n",
              "      <td>488726.0</td>\n",
              "      <td>571980.0</td>\n",
              "      <td>501659.0</td>\n",
              "      <td>54.4216</td>\n",
              "      <td>NaN</td>\n",
              "      <td>NaN</td>\n",
              "      <td>NaN</td>\n",
              "      <td>NaN</td>\n",
              "      <td>NaN</td>\n",
              "      <td>NaN</td>\n",
              "      <td>NaN</td>\n",
              "      <td>77.0</td>\n",
              "      <td>1.0</td>\n",
              "      <td>Knuckle Curve</td>\n",
              "      <td>5.0</td>\n",
              "      <td>8.0</td>\n",
              "      <td>5.0</td>\n",
              "      <td>8.0</td>\n",
              "      <td>8.0</td>\n",
              "      <td>5.0</td>\n",
              "      <td>5.0</td>\n",
              "      <td>8.0</td>\n",
              "      <td>Standard</td>\n",
              "      <td>Standard</td>\n",
              "    </tr>\n",
              "    <tr>\n",
              "      <th>3</th>\n",
              "      <td>3</td>\n",
              "      <td>FF</td>\n",
              "      <td>2017-04-03</td>\n",
              "      <td>94.6</td>\n",
              "      <td>-1.5822</td>\n",
              "      <td>5.5775</td>\n",
              "      <td>Jurickson Profar</td>\n",
              "      <td>595777.0</td>\n",
              "      <td>592102.0</td>\n",
              "      <td>strikeout</td>\n",
              "      <td>swinging_strike</td>\n",
              "      <td>NaN</td>\n",
              "      <td>NaN</td>\n",
              "      <td>NaN</td>\n",
              "      <td>NaN</td>\n",
              "      <td>12.0</td>\n",
              "      <td>Jurickson Profar strikes out swinging.</td>\n",
              "      <td>R</td>\n",
              "      <td>L</td>\n",
              "      <td>R</td>\n",
              "      <td>TEX</td>\n",
              "      <td>CLE</td>\n",
              "      <td>S</td>\n",
              "      <td>2.0</td>\n",
              "      <td>NaN</td>\n",
              "      <td>3.0</td>\n",
              "      <td>2.0</td>\n",
              "      <td>2017.0</td>\n",
              "      <td>-0.7186</td>\n",
              "      <td>1.4389</td>\n",
              "      <td>0.1150</td>\n",
              "      <td>3.8052</td>\n",
              "      <td>462101.0</td>\n",
              "      <td>NaN</td>\n",
              "      <td>NaN</td>\n",
              "      <td>1.0</td>\n",
              "      <td>9.0</td>\n",
              "      <td>Bot</td>\n",
              "      <td>NaN</td>\n",
              "      <td>NaN</td>\n",
              "      <td>NaN</td>\n",
              "      <td>NaN</td>\n",
              "      <td>543228.0</td>\n",
              "      <td>NaN</td>\n",
              "      <td>170404_022950</td>\n",
              "      <td>6.0980</td>\n",
              "      <td>-137.7013</td>\n",
              "      <td>-2.1731</td>\n",
              "      <td>-10.6486</td>\n",
              "      <td>32.7448</td>\n",
              "      <td>-13.4494</td>\n",
              "      <td>3.40</td>\n",
              "      <td>1.59</td>\n",
              "      <td>NaN</td>\n",
              "      <td>NaN</td>\n",
              "      <td>NaN</td>\n",
              "      <td>95.046</td>\n",
              "      <td>2516.0</td>\n",
              "      <td>6.689</td>\n",
              "      <td>490100.0</td>\n",
              "      <td>592102.0</td>\n",
              "      <td>543228.0</td>\n",
              "      <td>429665.0</td>\n",
              "      <td>608070.0</td>\n",
              "      <td>492841.0</td>\n",
              "      <td>596019.0</td>\n",
              "      <td>488726.0</td>\n",
              "      <td>571980.0</td>\n",
              "      <td>501659.0</td>\n",
              "      <td>53.8074</td>\n",
              "      <td>NaN</td>\n",
              "      <td>NaN</td>\n",
              "      <td>0.0</td>\n",
              "      <td>1.0</td>\n",
              "      <td>0.0</td>\n",
              "      <td>0.0</td>\n",
              "      <td>NaN</td>\n",
              "      <td>76.0</td>\n",
              "      <td>7.0</td>\n",
              "      <td>4-Seam Fastball</td>\n",
              "      <td>5.0</td>\n",
              "      <td>8.0</td>\n",
              "      <td>5.0</td>\n",
              "      <td>8.0</td>\n",
              "      <td>8.0</td>\n",
              "      <td>5.0</td>\n",
              "      <td>5.0</td>\n",
              "      <td>8.0</td>\n",
              "      <td>Standard</td>\n",
              "      <td>Standard</td>\n",
              "    </tr>\n",
              "    <tr>\n",
              "      <th>4</th>\n",
              "      <td>4</td>\n",
              "      <td>KC</td>\n",
              "      <td>2017-04-03</td>\n",
              "      <td>84.8</td>\n",
              "      <td>-1.7733</td>\n",
              "      <td>5.2838</td>\n",
              "      <td>Jurickson Profar</td>\n",
              "      <td>595777.0</td>\n",
              "      <td>592102.0</td>\n",
              "      <td>NaN</td>\n",
              "      <td>blocked_ball</td>\n",
              "      <td>NaN</td>\n",
              "      <td>NaN</td>\n",
              "      <td>NaN</td>\n",
              "      <td>NaN</td>\n",
              "      <td>13.0</td>\n",
              "      <td>NaN</td>\n",
              "      <td>R</td>\n",
              "      <td>L</td>\n",
              "      <td>R</td>\n",
              "      <td>TEX</td>\n",
              "      <td>CLE</td>\n",
              "      <td>B</td>\n",
              "      <td>NaN</td>\n",
              "      <td>NaN</td>\n",
              "      <td>2.0</td>\n",
              "      <td>2.0</td>\n",
              "      <td>2017.0</td>\n",
              "      <td>0.4370</td>\n",
              "      <td>-1.4487</td>\n",
              "      <td>-0.2312</td>\n",
              "      <td>0.4193</td>\n",
              "      <td>462101.0</td>\n",
              "      <td>NaN</td>\n",
              "      <td>NaN</td>\n",
              "      <td>1.0</td>\n",
              "      <td>9.0</td>\n",
              "      <td>Bot</td>\n",
              "      <td>NaN</td>\n",
              "      <td>NaN</td>\n",
              "      <td>NaN</td>\n",
              "      <td>NaN</td>\n",
              "      <td>543228.0</td>\n",
              "      <td>NaN</td>\n",
              "      <td>170404_022918</td>\n",
              "      <td>2.7277</td>\n",
              "      <td>-123.4255</td>\n",
              "      <td>-2.1550</td>\n",
              "      <td>3.8355</td>\n",
              "      <td>25.3739</td>\n",
              "      <td>-46.5472</td>\n",
              "      <td>3.40</td>\n",
              "      <td>1.59</td>\n",
              "      <td>NaN</td>\n",
              "      <td>NaN</td>\n",
              "      <td>NaN</td>\n",
              "      <td>84.221</td>\n",
              "      <td>2690.0</td>\n",
              "      <td>5.968</td>\n",
              "      <td>490100.0</td>\n",
              "      <td>592102.0</td>\n",
              "      <td>543228.0</td>\n",
              "      <td>429665.0</td>\n",
              "      <td>608070.0</td>\n",
              "      <td>492841.0</td>\n",
              "      <td>596019.0</td>\n",
              "      <td>488726.0</td>\n",
              "      <td>571980.0</td>\n",
              "      <td>501659.0</td>\n",
              "      <td>54.5286</td>\n",
              "      <td>NaN</td>\n",
              "      <td>NaN</td>\n",
              "      <td>NaN</td>\n",
              "      <td>NaN</td>\n",
              "      <td>NaN</td>\n",
              "      <td>NaN</td>\n",
              "      <td>NaN</td>\n",
              "      <td>76.0</td>\n",
              "      <td>6.0</td>\n",
              "      <td>Knuckle Curve</td>\n",
              "      <td>5.0</td>\n",
              "      <td>8.0</td>\n",
              "      <td>5.0</td>\n",
              "      <td>8.0</td>\n",
              "      <td>8.0</td>\n",
              "      <td>5.0</td>\n",
              "      <td>5.0</td>\n",
              "      <td>8.0</td>\n",
              "      <td>Standard</td>\n",
              "      <td>Standard</td>\n",
              "    </tr>\n",
              "  </tbody>\n",
              "</table>\n",
              "</div>"
            ],
            "text/plain": [
              "   index pitch_type  game_date  release_speed  release_pos_x  release_pos_z       player_name    batter   pitcher     events      description  spin_dir  spin_rate_deprecated  break_angle_deprecated  break_length_deprecated  zone                                       des game_type stand p_throws home_team away_team type  hit_location bb_type  balls  strikes  game_year   pfx_x   pfx_z  plate_x  plate_z     on_3b  on_2b  on_1b  outs_when_up  inning inning_topbot  hc_x  hc_y  tfs_deprecated  tfs_zulu_deprecated  fielder_2  umpire          sv_id     vx0       vy0     vz0       ax       ay       az  sz_top  sz_bot  hit_distance_sc  launch_speed  launch_angle  effective_speed  release_spin_rate  release_extension   game_pk  pitcher.1  fielder_2.1  fielder_3  fielder_4  fielder_5  fielder_6  fielder_7  fielder_8  fielder_9  release_pos_y  estimated_ba_using_speedangle  estimated_woba_using_speedangle  woba_value  woba_denom  babip_value  iso_value  launch_speed_angle  at_bat_number  \\\n",
              "0      0         KC 2017-04-03           84.6        -1.5393         5.6374      Carlos Gomez  460576.0  592102.0  strikeout  swinging_strike       NaN                   NaN                     NaN                      NaN  14.0      Carlos Gomez strikes out swinging.           R     R        R       TEX       CLE    S           2.0     NaN    0.0      2.0     2017.0  0.5315 -1.0157   1.0428   1.4096  462101.0    NaN    NaN           2.0     9.0           Bot   NaN   NaN             NaN                  NaN   543228.0     NaN  170404_023108  4.9348 -122.9803 -1.4413   4.2007  26.5864 -42.1888    3.45    1.58              NaN           NaN           NaN           83.564             2644.0              5.864  490100.0   592102.0     543228.0   429665.0   608070.0   492841.0   596019.0   488726.0   571980.0   501659.0        54.6331                            NaN                              NaN         0.0         1.0          0.0        0.0                 NaN           77.0   \n",
              "1      1         KC 2017-04-03           83.7        -1.6578         5.5539      Carlos Gomez  460576.0  592102.0        NaN    called_strike       NaN                   NaN                     NaN                      NaN   4.0                                       NaN         R     R        R       TEX       CLE    S           NaN     NaN    0.0      1.0     2017.0  0.8444 -0.6145  -0.6921   2.7941  462101.0    NaN    NaN           2.0     9.0           Bot   NaN   NaN             NaN                  NaN   543228.0     NaN  170404_023048  0.5802 -121.7593  1.3121   8.0885  26.6710 -38.7018    3.45    1.58              NaN           NaN           NaN           82.798             2584.0              5.965  490100.0   592102.0     543228.0   429665.0   608070.0   492841.0   596019.0   488726.0   571980.0   501659.0        54.5314                            NaN                              NaN         NaN         NaN          NaN        NaN                 NaN           77.0   \n",
              "2      2         KC 2017-04-03           84.1        -1.6668         5.4890      Carlos Gomez  460576.0  592102.0        NaN  swinging_strike       NaN                   NaN                     NaN                      NaN  14.0                                       NaN         R     R        R       TEX       CLE    S           NaN     NaN    0.0      0.0     2017.0  0.5896 -1.0271   0.3171   1.3011  462101.0    NaN    NaN           2.0     9.0           Bot   NaN   NaN             NaN                  NaN   543228.0     NaN  170404_023028  3.4276 -122.3673 -1.2677   5.1308  25.4337 -42.3302    3.45    1.58              NaN           NaN           NaN           83.590             2731.0              6.075  490100.0   592102.0     543228.0   429665.0   608070.0   492841.0   596019.0   488726.0   571980.0   501659.0        54.4216                            NaN                              NaN         NaN         NaN          NaN        NaN                 NaN           77.0   \n",
              "3      3         FF 2017-04-03           94.6        -1.5822         5.5775  Jurickson Profar  595777.0  592102.0  strikeout  swinging_strike       NaN                   NaN                     NaN                      NaN  12.0  Jurickson Profar strikes out swinging.           R     L        R       TEX       CLE    S           2.0     NaN    3.0      2.0     2017.0 -0.7186  1.4389   0.1150   3.8052  462101.0    NaN    NaN           1.0     9.0           Bot   NaN   NaN             NaN                  NaN   543228.0     NaN  170404_022950  6.0980 -137.7013 -2.1731 -10.6486  32.7448 -13.4494    3.40    1.59              NaN           NaN           NaN           95.046             2516.0              6.689  490100.0   592102.0     543228.0   429665.0   608070.0   492841.0   596019.0   488726.0   571980.0   501659.0        53.8074                            NaN                              NaN         0.0         1.0          0.0        0.0                 NaN           76.0   \n",
              "4      4         KC 2017-04-03           84.8        -1.7733         5.2838  Jurickson Profar  595777.0  592102.0        NaN     blocked_ball       NaN                   NaN                     NaN                      NaN  13.0                                       NaN         R     L        R       TEX       CLE    B           NaN     NaN    2.0      2.0     2017.0  0.4370 -1.4487  -0.2312   0.4193  462101.0    NaN    NaN           1.0     9.0           Bot   NaN   NaN             NaN                  NaN   543228.0     NaN  170404_022918  2.7277 -123.4255 -2.1550   3.8355  25.3739 -46.5472    3.40    1.59              NaN           NaN           NaN           84.221             2690.0              5.968  490100.0   592102.0     543228.0   429665.0   608070.0   492841.0   596019.0   488726.0   571980.0   501659.0        54.5286                            NaN                              NaN         NaN         NaN          NaN        NaN                 NaN           76.0   \n",
              "\n",
              "   pitch_number       pitch_name  home_score  away_score  bat_score  fld_score  post_away_score  post_home_score  post_bat_score  post_fld_score if_fielding_alignment of_fielding_alignment  \n",
              "0           3.0    Knuckle Curve         5.0         8.0        5.0        8.0              8.0              5.0             5.0             8.0              Standard              Standard  \n",
              "1           2.0    Knuckle Curve         5.0         8.0        5.0        8.0              8.0              5.0             5.0             8.0              Standard              Standard  \n",
              "2           1.0    Knuckle Curve         5.0         8.0        5.0        8.0              8.0              5.0             5.0             8.0              Standard              Standard  \n",
              "3           7.0  4-Seam Fastball         5.0         8.0        5.0        8.0              8.0              5.0             5.0             8.0              Standard              Standard  \n",
              "4           6.0    Knuckle Curve         5.0         8.0        5.0        8.0              8.0              5.0             5.0             8.0              Standard              Standard  "
            ]
          },
          "metadata": {
            "tags": []
          },
          "execution_count": 21
        }
      ]
    },
    {
      "cell_type": "markdown",
      "metadata": {
        "id": "OEotKmAh3koC",
        "colab_type": "text"
      },
      "source": [
        "# Visualizations"
      ]
    },
    {
      "cell_type": "code",
      "metadata": {
        "id": "KpWijsR-NmDN",
        "colab_type": "code",
        "colab": {
          "base_uri": "https://localhost:8080/",
          "height": 35
        },
        "outputId": "0f4f6d8d-ea24-4734-a43d-fc8d2e5f7c90"
      },
      "source": [
        "pitch_types = Coreys_pitches['pitch_name'].value_counts(normalize = True)\n",
        "pitch_types.index"
      ],
      "execution_count": 14,
      "outputs": [
        {
          "output_type": "execute_result",
          "data": {
            "text/plain": [
              "Index(['Curveball', 'Sinker', 'Cutter', '4-Seam Fastball', 'Changeup'], dtype='object')"
            ]
          },
          "metadata": {
            "tags": []
          },
          "execution_count": 14
        }
      ]
    },
    {
      "cell_type": "code",
      "metadata": {
        "id": "moWlMQJo3mfz",
        "colab_type": "code",
        "colab": {
          "base_uri": "https://localhost:8080/",
          "height": 378
        },
        "outputId": "aa547209-9929-4c10-ac74-a13cdd10861b"
      },
      "source": [
        "import matplotlib.pyplot as plt\n",
        "import numpy as np\n",
        "import seaborn as sns\n",
        "from matplotlib.ticker import (MultipleLocator, FormatStrFormatter,\n",
        "                               AutoMinorLocator)\n",
        "\n",
        "fig, ax = plt.subplots()\n",
        "\n",
        "x = pitch_types.index\n",
        "y = pitch_types\n",
        "\n",
        "p1 = plt.bar(x = x, height = y,\n",
        "             color='#F79824', aa = True)\n",
        "\n",
        "\n",
        "bigfont = {'family': 'sans-serif',\n",
        "        'color':  'black',\n",
        "        'weight': 'normal',\n",
        "        'size': 16,\n",
        "        }\n",
        "\n",
        "smallfont = {'family': 'sans-serif',\n",
        "        'color':  'black',\n",
        "        'weight': 'normal',\n",
        "        'size': 12,\n",
        "        }\n",
        "\n",
        "plt.ylabel('Percentage of Total pitches', fontdict = smallfont)\n",
        "plt.ylim(0,1)\n",
        "\n",
        "plt.grid(b = True, which = 'major', axis = 'y', color='grey', linewidth=.5)\n",
        "\n",
        "ax.yaxis.set_major_locator(MultipleLocator(.1))\n",
        "ax.yaxis.set_minor_locator(MultipleLocator(.05))\n",
        "\n",
        "fig.set_size_inches(10, 6)\n",
        "\n",
        "# Remove box\n",
        "ax.spines['top'].set_visible(False)\n",
        "ax.spines['right'].set_visible(False)\n",
        "ax.spines['bottom'].set_visible(False)\n",
        "ax.spines['left'].set_visible(False)\n",
        "\n",
        "plt.show();"
      ],
      "execution_count": 15,
      "outputs": [
        {
          "output_type": "display_data",
          "data": {
            "image/png": "[encoded data removed]",
            "text/plain": [
              "<Figure size 720x432 with 1 Axes>"
            ]
          },
          "metadata": {
            "tags": []
          }
        }
      ]
    },
    {
      "cell_type": "code",
      "metadata": {
        "id": "2ozSljatOwGJ",
        "colab_type": "code",
        "colab": {
          "base_uri": "https://localhost:8080/",
          "height": 446
        },
        "outputId": "12e0a5af-c737-4775-8897-9f4d51f79aea"
      },
      "source": [
        "fig, ax = plt.subplots()\n",
        "\n",
        "x = Coreys_pitches['index']\n",
        "y = Coreys_pitches['release_speed']\n",
        "\n",
        "p1 = sns.lineplot(x, y, color='#F79824', linewidth = 3, aa = True)\n",
        "\n",
        "bigfont = {'family': 'sans-serif',\n",
        "        'color':  'black',\n",
        "        'weight': 'normal',\n",
        "        'size': 16,\n",
        "        }\n",
        "\n",
        "smallfont = {'family': 'sans-serif',\n",
        "        'color':  'black',\n",
        "        'weight': 'normal',\n",
        "        'size': 12,\n",
        "        }\n",
        "\n",
        "plt.grid(b = True, which = 'major', axis = 'y', color='grey', linewidth=.5)\n",
        "\n",
        "\n",
        "fig.set_size_inches(19, 7)\n",
        "\n",
        "# Remove box\n",
        "ax.spines['top'].set_visible(False)\n",
        "ax.spines['right'].set_visible(False)\n",
        "ax.spines['bottom'].set_visible(False)\n",
        "ax.spines['left'].set_visible(False)\n",
        "\n",
        "plt.show();"
      ],
      "execution_count": 16,
      "outputs": [
        {
          "output_type": "display_data",
          "data": {
            "image/png": "[encoded data removed]",
            "text/plain": [
              "<Figure size 1368x504 with 1 Axes>"
            ]
          },
          "metadata": {
            "tags": []
          }
        }
      ]
    },
    {
      "cell_type": "markdown",
      "metadata": {
        "id": "sJj8EWJVAe-r",
        "colab_type": "text"
      },
      "source": [
        "# Logistic Regression"
      ]
    },
    {
      "cell_type": "code",
      "metadata": {
        "id": "CVEhBxbSNEww",
        "colab_type": "code",
        "colab": {
          "base_uri": "https://localhost:8080/",
          "height": 1000
        },
        "outputId": "f3469bae-cce3-40c6-fec1-e56ebd698946"
      },
      "source": [
        "Coreys_pitches.info()"
      ],
      "execution_count": 17,
      "outputs": [
        {
          "output_type": "stream",
          "text": [
            "<class 'pandas.core.frame.DataFrame'>\n",
            "Int64Index: 3080 entries, 731261 to 6252\n",
            "Data columns (total 59 columns):\n",
            "index                              3080 non-null float64\n",
            "pitch_type                         3080 non-null object\n",
            "game_date                          3080 non-null datetime64[ns]\n",
            "release_speed                      3080 non-null float64\n",
            "player_name                        3080 non-null object\n",
            "batter                             3080 non-null float64\n",
            "pitcher                            3080 non-null float64\n",
            "events                             808 non-null object\n",
            "description                        3080 non-null object\n",
            "zone                               3080 non-null float64\n",
            "stand                              3080 non-null object\n",
            "p_throws                           3080 non-null object\n",
            "home_team                          3080 non-null object\n",
            "away_team                          3080 non-null object\n",
            "type                               3080 non-null object\n",
            "hit_location                       742 non-null float64\n",
            "bb_type                            488 non-null object\n",
            "balls                              3080 non-null float64\n",
            "strikes                            3080 non-null float64\n",
            "on_3b                              158 non-null float64\n",
            "on_2b                              338 non-null float64\n",
            "on_1b                              656 non-null float64\n",
            "outs_when_up                       3080 non-null float64\n",
            "inning                             3080 non-null float64\n",
            "inning_topbot                      3080 non-null object\n",
            "fielder_2                          3080 non-null float64\n",
            "hit_distance_sc                    766 non-null float64\n",
            "effective_speed                    3073 non-null float64\n",
            "release_spin_rate                  2988 non-null float64\n",
            "release_extension                  3080 non-null float64\n",
            "game_pk                            3080 non-null float64\n",
            "pitcher.1                          3080 non-null float64\n",
            "fielder_2.1                        3080 non-null float64\n",
            "fielder_3                          3080 non-null float64\n",
            "fielder_4                          3080 non-null float64\n",
            "fielder_5                          3080 non-null float64\n",
            "fielder_6                          3080 non-null float64\n",
            "fielder_7                          3080 non-null float64\n",
            "fielder_8                          3080 non-null float64\n",
            "fielder_9                          3080 non-null float64\n",
            "estimated_ba_using_speedangle      488 non-null float64\n",
            "estimated_woba_using_speedangle    488 non-null float64\n",
            "woba_value                         808 non-null float64\n",
            "woba_denom                         808 non-null float64\n",
            "babip_value                        808 non-null float64\n",
            "iso_value                          808 non-null float64\n",
            "at_bat_number                      3080 non-null float64\n",
            "pitch_number                       3080 non-null float64\n",
            "pitch_name                         3080 non-null object\n",
            "home_score                         3080 non-null float64\n",
            "away_score                         3080 non-null float64\n",
            "bat_score                          3080 non-null float64\n",
            "fld_score                          3080 non-null float64\n",
            "post_away_score                    3080 non-null float64\n",
            "post_home_score                    3080 non-null float64\n",
            "post_bat_score                     3080 non-null float64\n",
            "post_fld_score                     3080 non-null float64\n",
            "if_fielding_alignment              3077 non-null object\n",
            "of_fielding_alignment              3077 non-null object\n",
            "dtypes: datetime64[ns](1), float64(44), object(14)\n",
            "memory usage: 1.4+ MB\n"
          ],
          "name": "stdout"
        }
      ]
    },
    {
      "cell_type": "code",
      "metadata": {
        "id": "CftF0Lx0PEUe",
        "colab_type": "code",
        "colab": {
          "base_uri": "https://localhost:8080/",
          "height": 107
        },
        "outputId": "e6d5ffa6-b064-4b2b-d0e9-6f5e5052ae15"
      },
      "source": [
        "from sklearn.linear_model import LogisticRegression\n",
        "\n",
        "model = LogisticRegression()\n",
        "\n",
        "model"
      ],
      "execution_count": 18,
      "outputs": [
        {
          "output_type": "execute_result",
          "data": {
            "text/plain": [
              "LogisticRegression(C=1.0, class_weight=None, dual=False, fit_intercept=True,\n",
              "                   intercept_scaling=1, l1_ratio=None, max_iter=100,\n",
              "                   multi_class='warn', n_jobs=None, penalty='l2',\n",
              "                   random_state=None, solver='warn', tol=0.0001, verbose=0,\n",
              "                   warm_start=False)"
            ]
          },
          "metadata": {
            "tags": []
          },
          "execution_count": 18
        }
      ]
    },
    {
      "cell_type": "code",
      "metadata": {
        "id": "RP8S2ShGA6Jo",
        "colab_type": "code",
        "colab": {
          "base_uri": "https://localhost:8080/",
          "height": 669
        },
        "outputId": "1781191f-fc35-41a2-eba2-8506392a9a1b"
      },
      "source": [
        "Coreys_pitches['curveball'] = Coreys_pitches['pitch_name'].replace({'Curveball': 1, 'Sinker': 0, 'Cutter': 0,\n",
        "                                      '4-Seam Fastball': 0, 'Changeup': 0 })\n",
        "\n",
        "Coreys_pitches['next_pitch_curveball'] = Coreys_pitches['curveball'].shift(-1, fill_value=0)\n",
        "\n",
        "Coreys_pitches[['curveball','next_pitch_curveball']].head(20)"
      ],
      "execution_count": 19,
      "outputs": [
        {
          "output_type": "execute_result",
          "data": {
            "text/html": [
              "<div>\n",
              "<style scoped>\n",
              "    .dataframe tbody tr th:only-of-type {\n",
              "        vertical-align: middle;\n",
              "    }\n",
              "\n",
              "    .dataframe tbody tr th {\n",
              "        vertical-align: top;\n",
              "    }\n",
              "\n",
              "    .dataframe thead th {\n",
              "        text-align: right;\n",
              "    }\n",
              "</style>\n",
              "<table border=\"1\" class=\"dataframe\">\n",
              "  <thead>\n",
              "    <tr style=\"text-align: right;\">\n",
              "      <th></th>\n",
              "      <th>curveball</th>\n",
              "      <th>next_pitch_curveball</th>\n",
              "    </tr>\n",
              "  </thead>\n",
              "  <tbody>\n",
              "    <tr>\n",
              "      <th>731261</th>\n",
              "      <td>0</td>\n",
              "      <td>0</td>\n",
              "    </tr>\n",
              "    <tr>\n",
              "      <th>731260</th>\n",
              "      <td>0</td>\n",
              "      <td>0</td>\n",
              "    </tr>\n",
              "    <tr>\n",
              "      <th>731259</th>\n",
              "      <td>0</td>\n",
              "      <td>0</td>\n",
              "    </tr>\n",
              "    <tr>\n",
              "      <th>731258</th>\n",
              "      <td>0</td>\n",
              "      <td>0</td>\n",
              "    </tr>\n",
              "    <tr>\n",
              "      <th>731257</th>\n",
              "      <td>0</td>\n",
              "      <td>0</td>\n",
              "    </tr>\n",
              "    <tr>\n",
              "      <th>731256</th>\n",
              "      <td>0</td>\n",
              "      <td>0</td>\n",
              "    </tr>\n",
              "    <tr>\n",
              "      <th>731255</th>\n",
              "      <td>0</td>\n",
              "      <td>0</td>\n",
              "    </tr>\n",
              "    <tr>\n",
              "      <th>731254</th>\n",
              "      <td>0</td>\n",
              "      <td>0</td>\n",
              "    </tr>\n",
              "    <tr>\n",
              "      <th>731253</th>\n",
              "      <td>0</td>\n",
              "      <td>0</td>\n",
              "    </tr>\n",
              "    <tr>\n",
              "      <th>731252</th>\n",
              "      <td>0</td>\n",
              "      <td>0</td>\n",
              "    </tr>\n",
              "    <tr>\n",
              "      <th>731251</th>\n",
              "      <td>0</td>\n",
              "      <td>1</td>\n",
              "    </tr>\n",
              "    <tr>\n",
              "      <th>731250</th>\n",
              "      <td>1</td>\n",
              "      <td>0</td>\n",
              "    </tr>\n",
              "    <tr>\n",
              "      <th>731249</th>\n",
              "      <td>0</td>\n",
              "      <td>0</td>\n",
              "    </tr>\n",
              "    <tr>\n",
              "      <th>731248</th>\n",
              "      <td>0</td>\n",
              "      <td>0</td>\n",
              "    </tr>\n",
              "    <tr>\n",
              "      <th>731247</th>\n",
              "      <td>0</td>\n",
              "      <td>0</td>\n",
              "    </tr>\n",
              "    <tr>\n",
              "      <th>731246</th>\n",
              "      <td>0</td>\n",
              "      <td>0</td>\n",
              "    </tr>\n",
              "    <tr>\n",
              "      <th>731245</th>\n",
              "      <td>0</td>\n",
              "      <td>0</td>\n",
              "    </tr>\n",
              "    <tr>\n",
              "      <th>731244</th>\n",
              "      <td>0</td>\n",
              "      <td>0</td>\n",
              "    </tr>\n",
              "    <tr>\n",
              "      <th>731235</th>\n",
              "      <td>0</td>\n",
              "      <td>0</td>\n",
              "    </tr>\n",
              "    <tr>\n",
              "      <th>731234</th>\n",
              "      <td>0</td>\n",
              "      <td>0</td>\n",
              "    </tr>\n",
              "  </tbody>\n",
              "</table>\n",
              "</div>"
            ],
            "text/plain": [
              "        curveball  next_pitch_curveball\n",
              "731261          0                     0\n",
              "731260          0                     0\n",
              "731259          0                     0\n",
              "731258          0                     0\n",
              "731257          0                     0\n",
              "731256          0                     0\n",
              "731255          0                     0\n",
              "731254          0                     0\n",
              "731253          0                     0\n",
              "731252          0                     0\n",
              "731251          0                     1\n",
              "731250          1                     0\n",
              "731249          0                     0\n",
              "731248          0                     0\n",
              "731247          0                     0\n",
              "731246          0                     0\n",
              "731245          0                     0\n",
              "731244          0                     0\n",
              "731235          0                     0\n",
              "731234          0                     0"
            ]
          },
          "metadata": {
            "tags": []
          },
          "execution_count": 19
        }
      ]
    },
    {
      "cell_type": "code",
      "metadata": {
        "id": "4jvMs6TJBsa-",
        "colab_type": "code",
        "colab": {
          "base_uri": "https://localhost:8080/",
          "height": 393
        },
        "outputId": "52fc3ab5-bcf7-41cb-fbe7-8f0cf8fa90b1"
      },
      "source": [
        "features = Coreys_pitches[['release_speed', 'batter', 'pitcher', 'zone',\n",
        "                           'balls', 'strikes', 'outs_when_up', 'inning',\n",
        "                           'fielder_2', 'release_extension',\n",
        "                           'at_bat_number', 'pitch_number', 'home_score',\n",
        "                           'away_score', 'bat_score', 'fld_score', 'Pitch_ID',\n",
        "                           'curveball']]\n",
        "\n",
        "target = Coreys_pitches['next_pitch_curveball']\n",
        "\n",
        "features.shape, target.shape"
      ],
      "execution_count": 20,
      "outputs": [
        {
          "output_type": "error",
          "ename": "KeyError",
          "evalue": "ignored",
          "traceback": [
            "\u001b[0;31m---------------------------------------------------------------------------\u001b[0m",
            "\u001b[0;31mKeyError\u001b[0m                                  Traceback (most recent call last)",
            "\u001b[0;32m<ipython-input-20-dc2931295b0f>\u001b[0m in \u001b[0;36m<module>\u001b[0;34m()\u001b[0m\n\u001b[1;32m      4\u001b[0m                            \u001b[0;34m'at_bat_number'\u001b[0m\u001b[0;34m,\u001b[0m \u001b[0;34m'pitch_number'\u001b[0m\u001b[0;34m,\u001b[0m \u001b[0;34m'home_score'\u001b[0m\u001b[0;34m,\u001b[0m\u001b[0;34m\u001b[0m\u001b[0;34m\u001b[0m\u001b[0m\n\u001b[1;32m      5\u001b[0m                            \u001b[0;34m'away_score'\u001b[0m\u001b[0;34m,\u001b[0m \u001b[0;34m'bat_score'\u001b[0m\u001b[0;34m,\u001b[0m \u001b[0;34m'fld_score'\u001b[0m\u001b[0;34m,\u001b[0m \u001b[0;34m'Pitch_ID'\u001b[0m\u001b[0;34m,\u001b[0m\u001b[0;34m\u001b[0m\u001b[0;34m\u001b[0m\u001b[0m\n\u001b[0;32m----> 6\u001b[0;31m                            'curveball']]\n\u001b[0m\u001b[1;32m      7\u001b[0m \u001b[0;34m\u001b[0m\u001b[0m\n\u001b[1;32m      8\u001b[0m \u001b[0mtarget\u001b[0m \u001b[0;34m=\u001b[0m \u001b[0mCoreys_pitches\u001b[0m\u001b[0;34m[\u001b[0m\u001b[0;34m'next_pitch_curveball'\u001b[0m\u001b[0;34m]\u001b[0m\u001b[0;34m\u001b[0m\u001b[0;34m\u001b[0m\u001b[0m\n",
            "\u001b[0;32m/usr/local/lib/python3.6/dist-packages/pandas/core/frame.py\u001b[0m in \u001b[0;36m__getitem__\u001b[0;34m(self, key)\u001b[0m\n\u001b[1;32m   2932\u001b[0m                 \u001b[0mkey\u001b[0m \u001b[0;34m=\u001b[0m \u001b[0mlist\u001b[0m\u001b[0;34m(\u001b[0m\u001b[0mkey\u001b[0m\u001b[0;34m)\u001b[0m\u001b[0;34m\u001b[0m\u001b[0;34m\u001b[0m\u001b[0m\n\u001b[1;32m   2933\u001b[0m             indexer = self.loc._convert_to_indexer(key, axis=1,\n\u001b[0;32m-> 2934\u001b[0;31m                                                    raise_missing=True)\n\u001b[0m\u001b[1;32m   2935\u001b[0m \u001b[0;34m\u001b[0m\u001b[0m\n\u001b[1;32m   2936\u001b[0m         \u001b[0;31m# take() does not accept boolean indexers\u001b[0m\u001b[0;34m\u001b[0m\u001b[0;34m\u001b[0m\u001b[0;34m\u001b[0m\u001b[0m\n",
            "\u001b[0;32m/usr/local/lib/python3.6/dist-packages/pandas/core/indexing.py\u001b[0m in \u001b[0;36m_convert_to_indexer\u001b[0;34m(self, obj, axis, is_setter, raise_missing)\u001b[0m\n\u001b[1;32m   1352\u001b[0m                 kwargs = {'raise_missing': True if is_setter else\n\u001b[1;32m   1353\u001b[0m                           raise_missing}\n\u001b[0;32m-> 1354\u001b[0;31m                 \u001b[0;32mreturn\u001b[0m \u001b[0mself\u001b[0m\u001b[0;34m.\u001b[0m\u001b[0m_get_listlike_indexer\u001b[0m\u001b[0;34m(\u001b[0m\u001b[0mobj\u001b[0m\u001b[0;34m,\u001b[0m \u001b[0maxis\u001b[0m\u001b[0;34m,\u001b[0m \u001b[0;34m**\u001b[0m\u001b[0mkwargs\u001b[0m\u001b[0;34m)\u001b[0m\u001b[0;34m[\u001b[0m\u001b[0;36m1\u001b[0m\u001b[0;34m]\u001b[0m\u001b[0;34m\u001b[0m\u001b[0;34m\u001b[0m\u001b[0m\n\u001b[0m\u001b[1;32m   1355\u001b[0m         \u001b[0;32melse\u001b[0m\u001b[0;34m:\u001b[0m\u001b[0;34m\u001b[0m\u001b[0;34m\u001b[0m\u001b[0m\n\u001b[1;32m   1356\u001b[0m             \u001b[0;32mtry\u001b[0m\u001b[0;34m:\u001b[0m\u001b[0;34m\u001b[0m\u001b[0;34m\u001b[0m\u001b[0m\n",
            "\u001b[0;32m/usr/local/lib/python3.6/dist-packages/pandas/core/indexing.py\u001b[0m in \u001b[0;36m_get_listlike_indexer\u001b[0;34m(self, key, axis, raise_missing)\u001b[0m\n\u001b[1;32m   1159\u001b[0m         self._validate_read_indexer(keyarr, indexer,\n\u001b[1;32m   1160\u001b[0m                                     \u001b[0mo\u001b[0m\u001b[0;34m.\u001b[0m\u001b[0m_get_axis_number\u001b[0m\u001b[0;34m(\u001b[0m\u001b[0maxis\u001b[0m\u001b[0;34m)\u001b[0m\u001b[0;34m,\u001b[0m\u001b[0;34m\u001b[0m\u001b[0;34m\u001b[0m\u001b[0m\n\u001b[0;32m-> 1161\u001b[0;31m                                     raise_missing=raise_missing)\n\u001b[0m\u001b[1;32m   1162\u001b[0m         \u001b[0;32mreturn\u001b[0m \u001b[0mkeyarr\u001b[0m\u001b[0;34m,\u001b[0m \u001b[0mindexer\u001b[0m\u001b[0;34m\u001b[0m\u001b[0;34m\u001b[0m\u001b[0m\n\u001b[1;32m   1163\u001b[0m \u001b[0;34m\u001b[0m\u001b[0m\n",
            "\u001b[0;32m/usr/local/lib/python3.6/dist-packages/pandas/core/indexing.py\u001b[0m in \u001b[0;36m_validate_read_indexer\u001b[0;34m(self, key, indexer, axis, raise_missing)\u001b[0m\n\u001b[1;32m   1250\u001b[0m             \u001b[0;32mif\u001b[0m \u001b[0;32mnot\u001b[0m\u001b[0;34m(\u001b[0m\u001b[0mself\u001b[0m\u001b[0;34m.\u001b[0m\u001b[0mname\u001b[0m \u001b[0;34m==\u001b[0m \u001b[0;34m'loc'\u001b[0m \u001b[0;32mand\u001b[0m \u001b[0;32mnot\u001b[0m \u001b[0mraise_missing\u001b[0m\u001b[0;34m)\u001b[0m\u001b[0;34m:\u001b[0m\u001b[0;34m\u001b[0m\u001b[0;34m\u001b[0m\u001b[0m\n\u001b[1;32m   1251\u001b[0m                 \u001b[0mnot_found\u001b[0m \u001b[0;34m=\u001b[0m \u001b[0mlist\u001b[0m\u001b[0;34m(\u001b[0m\u001b[0mset\u001b[0m\u001b[0;34m(\u001b[0m\u001b[0mkey\u001b[0m\u001b[0;34m)\u001b[0m \u001b[0;34m-\u001b[0m \u001b[0mset\u001b[0m\u001b[0;34m(\u001b[0m\u001b[0max\u001b[0m\u001b[0;34m)\u001b[0m\u001b[0;34m)\u001b[0m\u001b[0;34m\u001b[0m\u001b[0;34m\u001b[0m\u001b[0m\n\u001b[0;32m-> 1252\u001b[0;31m                 \u001b[0;32mraise\u001b[0m \u001b[0mKeyError\u001b[0m\u001b[0;34m(\u001b[0m\u001b[0;34m\"{} not in index\"\u001b[0m\u001b[0;34m.\u001b[0m\u001b[0mformat\u001b[0m\u001b[0;34m(\u001b[0m\u001b[0mnot_found\u001b[0m\u001b[0;34m)\u001b[0m\u001b[0;34m)\u001b[0m\u001b[0;34m\u001b[0m\u001b[0;34m\u001b[0m\u001b[0m\n\u001b[0m\u001b[1;32m   1253\u001b[0m \u001b[0;34m\u001b[0m\u001b[0m\n\u001b[1;32m   1254\u001b[0m             \u001b[0;31m# we skip the warning on Categorical/Interval\u001b[0m\u001b[0;34m\u001b[0m\u001b[0;34m\u001b[0m\u001b[0;34m\u001b[0m\u001b[0m\n",
            "\u001b[0;31mKeyError\u001b[0m: \"['Pitch_ID'] not in index\""
          ]
        }
      ]
    },
    {
      "cell_type": "code",
      "metadata": {
        "id": "HFC23Uf_BmwB",
        "colab_type": "code",
        "colab": {}
      },
      "source": [
        "from sklearn.model_selection import train_test_split\n",
        "\n",
        "x_train, x_test, y_train, y_test = train_test_split(features, target)\n",
        "\n",
        "x_train.shape, x_test.shape, y_train.shape, y_test.shape"
      ],
      "execution_count": 0,
      "outputs": []
    },
    {
      "cell_type": "code",
      "metadata": {
        "id": "PgQMRNdKDQGd",
        "colab_type": "code",
        "colab": {}
      },
      "source": [
        "model.fit(x_train, y_train)"
      ],
      "execution_count": 0,
      "outputs": []
    },
    {
      "cell_type": "code",
      "metadata": {
        "id": "eezup7LMDUCj",
        "colab_type": "code",
        "colab": {}
      },
      "source": [
        "from sklearn.metrics import accuracy_score\n",
        "\n",
        "accuracy_score(model.predict(x_test), y_test)"
      ],
      "execution_count": 0,
      "outputs": []
    },
    {
      "cell_type": "code",
      "metadata": {
        "id": "TSvSdUxJMR3e",
        "colab_type": "code",
        "colab": {}
      },
      "source": [
        "pd.DataFrame(model.predict_proba(x_test))[0].describe()"
      ],
      "execution_count": 0,
      "outputs": []
    },
    {
      "cell_type": "markdown",
      "metadata": {
        "id": "AYXxVCqkHtl7",
        "colab_type": "text"
      },
      "source": [
        "## Decision Tree"
      ]
    },
    {
      "cell_type": "code",
      "metadata": {
        "id": "T9CXTlqQHKkV",
        "colab_type": "code",
        "colab": {}
      },
      "source": [
        "from sklearn.tree import DecisionTreeClassifier\n",
        "\n",
        "tree = DecisionTreeClassifier()\n",
        "\n",
        "tree"
      ],
      "execution_count": 0,
      "outputs": []
    },
    {
      "cell_type": "code",
      "metadata": {
        "id": "b9XDhPWdHtD7",
        "colab_type": "code",
        "colab": {}
      },
      "source": [
        "tree.fit(x_train, y_train)"
      ],
      "execution_count": 0,
      "outputs": []
    },
    {
      "cell_type": "code",
      "metadata": {
        "id": "TTkKxmD1Hz0T",
        "colab_type": "code",
        "colab": {}
      },
      "source": [
        "accuracy_score(tree.predict(x_test), y_test)"
      ],
      "execution_count": 0,
      "outputs": []
    },
    {
      "cell_type": "markdown",
      "metadata": {
        "id": "mOBc6nW6HGXA",
        "colab_type": "text"
      },
      "source": [
        "## Feature Importances"
      ]
    },
    {
      "cell_type": "code",
      "metadata": {
        "id": "kw6W4nGDD2he",
        "colab_type": "code",
        "colab": {}
      },
      "source": [
        "!pip install eli5"
      ],
      "execution_count": 0,
      "outputs": []
    },
    {
      "cell_type": "code",
      "metadata": {
        "id": "EULYXOLHDiw5",
        "colab_type": "code",
        "colab": {}
      },
      "source": [
        "import eli5\n",
        "from eli5.sklearn import PermutationImportance\n",
        "\n",
        "perm = PermutationImportance(tree).fit(x_test, y_test)\n",
        "eli5.show_weights(perm)"
      ],
      "execution_count": 0,
      "outputs": []
    },
    {
      "cell_type": "markdown",
      "metadata": {
        "id": "qhZbRhd4HWIS",
        "colab_type": "text"
      },
      "source": [
        "### [SHAP Values](https://github.com/slundberg/shap)"
      ]
    },
    {
      "cell_type": "code",
      "metadata": {
        "id": "P6RibxmaG5uI",
        "colab_type": "code",
        "colab": {}
      },
      "source": [
        "!pip install shap"
      ],
      "execution_count": 0,
      "outputs": []
    },
    {
      "cell_type": "code",
      "metadata": {
        "id": "_tE3uu8ND1iO",
        "colab_type": "code",
        "colab": {}
      },
      "source": [
        "import shap\n",
        "\n",
        "# load JS visualization code to notebook\n",
        "shap.initjs()\n",
        "\n",
        "# explain the model's predictions using SHAP values\n",
        "explainer = shap.TreeExplainer(tree)\n",
        "shap_values = explainer.shap_values(x_test)\n",
        "\n",
        "# visualize the first prediction's explanation (use matplotlib=True to avoid Javascript)\n",
        "shap.force_plot(explainer.expected_value[0], shap_values[0], x_test[0:])"
      ],
      "execution_count": 0,
      "outputs": []
    },
    {
      "cell_type": "code",
      "metadata": {
        "id": "YL6_bMKYG4-2",
        "colab_type": "code",
        "colab": {}
      },
      "source": [
        ""
      ],
      "execution_count": 0,
      "outputs": []
    }
  ]
}