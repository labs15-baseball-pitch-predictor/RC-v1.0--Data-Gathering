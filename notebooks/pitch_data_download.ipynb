{
 "cells": [
  {
   "cell_type": "code",
   "execution_count": 10,
   "metadata": {},
   "outputs": [],
   "source": [
    "import pandas as pd\n",
    "from pybaseball import statcast"
   ]
  },
  {
   "cell_type": "code",
   "execution_count": 11,
   "metadata": {},
   "outputs": [],
   "source": [
    "drop_cols = ['spin_dir','spin_rate_deprecated', 'break_angle_deprecated','break_length_deprecated', \n",
    "             'game_type', 'tfs_deprecated', 'tfs_zulu_deprecated', 'umpire']"
   ]
  },
  {
   "cell_type": "code",
   "execution_count": 12,
   "metadata": {},
   "outputs": [
    {
     "name": "stdout",
     "output_type": "stream",
     "text": [
      "This is a large query, it may take a moment to complete\n",
      "Completed sub-query from 2017-04-02 to 2017-04-07\n",
      "Completed sub-query from 2017-04-08 to 2017-04-13\n",
      "Completed sub-query from 2017-04-14 to 2017-04-19\n",
      "Completed sub-query from 2017-04-20 to 2017-04-25\n",
      "Completed sub-query from 2017-04-26 to 2017-05-01\n",
      "Completed sub-query from 2017-05-02 to 2017-05-07\n",
      "Completed sub-query from 2017-05-08 to 2017-05-13\n",
      "Completed sub-query from 2017-05-14 to 2017-05-19\n",
      "Completed sub-query from 2017-05-20 to 2017-05-25\n",
      "Completed sub-query from 2017-05-26 to 2017-05-31\n",
      "Completed sub-query from 2017-06-01 to 2017-06-06\n",
      "Completed sub-query from 2017-06-07 to 2017-06-12\n",
      "Completed sub-query from 2017-06-13 to 2017-06-18\n",
      "Completed sub-query from 2017-06-19 to 2017-06-24\n",
      "Completed sub-query from 2017-06-25 to 2017-06-30\n",
      "Completed sub-query from 2017-07-01 to 2017-07-06\n",
      "Completed sub-query from 2017-07-07 to 2017-07-12\n",
      "Completed sub-query from 2017-07-13 to 2017-07-18\n",
      "Completed sub-query from 2017-07-19 to 2017-07-24\n",
      "Completed sub-query from 2017-07-25 to 2017-07-30\n",
      "Completed sub-query from 2017-07-31 to 2017-08-05\n",
      "Completed sub-query from 2017-08-06 to 2017-08-11\n",
      "Completed sub-query from 2017-08-12 to 2017-08-17\n",
      "Completed sub-query from 2017-08-18 to 2017-08-23\n",
      "Completed sub-query from 2017-08-24 to 2017-08-29\n",
      "Completed sub-query from 2017-08-30 to 2017-09-04\n",
      "Completed sub-query from 2017-09-05 to 2017-09-10\n",
      "Completed sub-query from 2017-09-11 to 2017-09-16\n",
      "Completed sub-query from 2017-09-17 to 2017-09-22\n",
      "Completed sub-query from 2017-09-23 to 2017-09-28\n",
      "Completed sub-query from 2017-09-29 to 2017-10-02\n"
     ]
    }
   ],
   "source": [
    "#2017\n",
    "df = statcast('2017-04-02', '2017-10-02')\n",
    "df = df.drop(columns=drop_cols)\n",
    "\n",
    "df.to_pickle(path='pitches_2017.pkl', compression='zip')"
   ]
  },
  {
   "cell_type": "code",
   "execution_count": 13,
   "metadata": {},
   "outputs": [
    {
     "name": "stdout",
     "output_type": "stream",
     "text": [
      "This is a large query, it may take a moment to complete\n",
      "Completed sub-query from 2018-03-29 to 2018-04-03\n",
      "Completed sub-query from 2018-04-04 to 2018-04-09\n",
      "Completed sub-query from 2018-04-10 to 2018-04-15\n",
      "Completed sub-query from 2018-04-16 to 2018-04-21\n",
      "Completed sub-query from 2018-04-22 to 2018-04-27\n",
      "Completed sub-query from 2018-04-28 to 2018-05-03\n",
      "Completed sub-query from 2018-05-04 to 2018-05-09\n",
      "Completed sub-query from 2018-05-10 to 2018-05-15\n",
      "Completed sub-query from 2018-05-16 to 2018-05-21\n",
      "Completed sub-query from 2018-05-22 to 2018-05-27\n",
      "Completed sub-query from 2018-05-28 to 2018-06-02\n",
      "Completed sub-query from 2018-06-03 to 2018-06-08\n",
      "Completed sub-query from 2018-06-09 to 2018-06-14\n",
      "Completed sub-query from 2018-06-15 to 2018-06-20\n",
      "Completed sub-query from 2018-06-21 to 2018-06-26\n",
      "Completed sub-query from 2018-06-27 to 2018-07-02\n",
      "Completed sub-query from 2018-07-03 to 2018-07-08\n",
      "Completed sub-query from 2018-07-09 to 2018-07-14\n",
      "Completed sub-query from 2018-07-15 to 2018-07-20\n",
      "Completed sub-query from 2018-07-21 to 2018-07-26\n",
      "Completed sub-query from 2018-07-27 to 2018-08-01\n",
      "Completed sub-query from 2018-08-02 to 2018-08-07\n",
      "Completed sub-query from 2018-08-08 to 2018-08-13\n",
      "Completed sub-query from 2018-08-14 to 2018-08-19\n",
      "Completed sub-query from 2018-08-20 to 2018-08-25\n",
      "Completed sub-query from 2018-08-26 to 2018-08-31\n",
      "Completed sub-query from 2018-09-01 to 2018-09-06\n",
      "Completed sub-query from 2018-09-07 to 2018-09-12\n",
      "Completed sub-query from 2018-09-13 to 2018-09-18\n",
      "Completed sub-query from 2018-09-19 to 2018-09-24\n",
      "Completed sub-query from 2018-09-25 to 2018-09-30\n",
      "Completed sub-query from 2018-10-01 to 2018-10-01\n"
     ]
    }
   ],
   "source": [
    "#2018\n",
    "\n",
    "df = statcast('2018-03-29', '2018-10-01')\n",
    "df = df.drop(columns=drop_cols)\n",
    "\n",
    "df.to_pickle(path='pitches_2018.pkl', compression='zip')"
   ]
  },
  {
   "cell_type": "code",
   "execution_count": 14,
   "metadata": {},
   "outputs": [
    {
     "name": "stdout",
     "output_type": "stream",
     "text": [
      "This is a large query, it may take a moment to complete\n",
      "Completed sub-query from 2019-03-28 to 2019-04-02\n",
      "Completed sub-query from 2019-04-03 to 2019-04-08\n",
      "Completed sub-query from 2019-04-09 to 2019-04-14\n",
      "Completed sub-query from 2019-04-15 to 2019-04-20\n",
      "Completed sub-query from 2019-04-21 to 2019-04-26\n",
      "Completed sub-query from 2019-04-27 to 2019-05-02\n",
      "Completed sub-query from 2019-05-03 to 2019-05-08\n",
      "Completed sub-query from 2019-05-09 to 2019-05-14\n",
      "Completed sub-query from 2019-05-15 to 2019-05-20\n",
      "Completed sub-query from 2019-05-21 to 2019-05-26\n",
      "Completed sub-query from 2019-05-27 to 2019-06-01\n",
      "Completed sub-query from 2019-06-02 to 2019-06-07\n",
      "Completed sub-query from 2019-06-08 to 2019-06-13\n",
      "Completed sub-query from 2019-06-14 to 2019-06-19\n",
      "Completed sub-query from 2019-06-20 to 2019-06-25\n",
      "Completed sub-query from 2019-06-26 to 2019-07-01\n",
      "Completed sub-query from 2019-07-02 to 2019-07-07\n"
     ]
    }
   ],
   "source": [
    "#2019 (opening day - all star break)\n",
    "\n",
    "df = statcast('2019-03-28', '2019-07-07')\n",
    "df = df.drop(columns=drop_cols)\n",
    "\n",
    "df.to_pickle(path='pitches_2019_first_half.pkl', compression='zip')"
   ]
  }
 ],
 "metadata": {
  "kernelspec": {
   "display_name": "Python 3",
   "language": "python",
   "name": "python3"
  },
  "language_info": {
   "codemirror_mode": {
    "name": "ipython",
    "version": 3
   },
   "file_extension": ".py",
   "mimetype": "text/x-python",
   "name": "python",
   "nbconvert_exporter": "python",
   "pygments_lexer": "ipython3",
   "version": "3.6.8"
  }
 },
 "nbformat": 4,
 "nbformat_minor": 2
}
