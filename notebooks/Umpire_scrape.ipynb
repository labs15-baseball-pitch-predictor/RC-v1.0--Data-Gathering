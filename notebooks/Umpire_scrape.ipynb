{
  "nbformat": 4,
  "nbformat_minor": 0,
  "metadata": {
    "colab": {
      "name": "Umpire_scrape.ipynb",
      "version": "0.3.2",
      "provenance": [],
      "collapsed_sections": []
    },
    "kernelspec": {
      "name": "python3",
      "display_name": "Python 3"
    }
  },
  "cells": [
    {
      "cell_type": "code",
      "metadata": {
        "id": "OtN4oCJH3m0k",
        "colab_type": "code",
        "colab": {}
      },
      "source": [
        "import pandas as pd\n",
        "df = pd.read_json('http://api.sportradar.us/mlb/trial/v6.5/en/games/2018/04/15/summary.json?api_key=8sj7vm47gydzymqv8dprd7j5', lines=True)\n"
      ],
      "execution_count": 0,
      "outputs": []
    },
    {
      "cell_type": "code",
      "metadata": {
        "id": "eD9H9LMb3ogQ",
        "colab_type": "code",
        "outputId": "41ee7010-a288-4815-d4aa-7bf61710ff96",
        "colab": {
          "base_uri": "https://localhost:8080/",
          "height": 78
        }
      },
      "source": [
        "df.head()"
      ],
      "execution_count": 0,
      "outputs": [
        {
          "output_type": "execute_result",
          "data": {
            "text/html": [
              "<div>\n",
              "<style scoped>\n",
              "    .dataframe tbody tr th:only-of-type {\n",
              "        vertical-align: middle;\n",
              "    }\n",
              "\n",
              "    .dataframe tbody tr th {\n",
              "        vertical-align: top;\n",
              "    }\n",
              "\n",
              "    .dataframe thead th {\n",
              "        text-align: right;\n",
              "    }\n",
              "</style>\n",
              "<table border=\"1\" class=\"dataframe\">\n",
              "  <thead>\n",
              "    <tr style=\"text-align: right;\">\n",
              "      <th></th>\n",
              "      <th>_comment</th>\n",
              "      <th>league</th>\n",
              "    </tr>\n",
              "  </thead>\n",
              "  <tbody>\n",
              "    <tr>\n",
              "      <th>0</th>\n",
              "      <td>Generation started @ 2019-08-21 19:50:44 UTC e...</td>\n",
              "      <td>{'alias': 'MLB', 'name': 'Major League Basebal...</td>\n",
              "    </tr>\n",
              "  </tbody>\n",
              "</table>\n",
              "</div>"
            ],
            "text/plain": [
              "                                            _comment                                             league\n",
              "0  Generation started @ 2019-08-21 19:50:44 UTC e...  {'alias': 'MLB', 'name': 'Major League Basebal..."
            ]
          },
          "metadata": {
            "tags": []
          },
          "execution_count": 2
        }
      ]
    },
    {
      "cell_type": "code",
      "metadata": {
        "id": "7VH_4bWryQDy",
        "colab_type": "code",
        "colab": {}
      },
      "source": [
        "date = '2018/04/15'\n",
        "api_key = '8sj7vm47gydzymqv8dprd7j5'\n",
        " \n",
        "\n",
        "dates = [date]\n",
        "\n",
        "games = []\n",
        "\n",
        "for date in dates:\n",
        "  url = 'http://api.sportradar.us/mlb/trial/v6.5/en/games/' + date + '/summary.json?api_key=' + api_key\n",
        "\n",
        "  daily_summary = pd.read_json(url, lines=True).loc[0].league\n",
        "  games_summary = daily_summary['games']\n",
        "\n",
        "  for game in games_summary:\n",
        "    \n",
        "    game_dict = {}\n",
        "    game_num = game['game']['game_number']\n",
        "    home_team = game['game']['home']['abbr']\n",
        "    away_team = game['game']['away']['abbr']\n",
        "      \n",
        "    #umpire\n",
        "    for ump in game['game']['officials']:\n",
        "      if ump['assignment'] == 'HP':\n",
        "        umpire = ump['full_name']\n",
        "        \n",
        "    game_dict['game_num'] = game_num\n",
        "    game_dict['home_team'] = home_team\n",
        "    game_dict['away_team'] = away_team\n",
        "    game_dict['umpire'] = umpire\n",
        "    games.append(game_dict)"
      ],
      "execution_count": 0,
      "outputs": []
    },
    {
      "cell_type": "code",
      "metadata": {
        "id": "phMUvciG2Eio",
        "colab_type": "code",
        "outputId": "a36de79f-6a04-48e2-c298-ab016b84d9f4",
        "colab": {
          "base_uri": "https://localhost:8080/",
          "height": 35
        }
      },
      "source": [
        "len(games)"
      ],
      "execution_count": 0,
      "outputs": [
        {
          "output_type": "execute_result",
          "data": {
            "text/plain": [
              "16"
            ]
          },
          "metadata": {
            "tags": []
          },
          "execution_count": 37
        }
      ]
    },
    {
      "cell_type": "markdown",
      "metadata": {
        "id": "PH01nmvz5QhG",
        "colab_type": "text"
      },
      "source": [
        "#Next step:\n",
        "generate a list of dates for 2017, 2018, and 2019 season to iterate over\n",
        "\n",
        "once the master list of game_dicts is done, can make a dataframe and then merge w/ the pitch_data df\n"
      ]
    },
    {
      "cell_type": "code",
      "metadata": {
        "id": "fgwv6qZk5VHw",
        "colab_type": "code",
        "colab": {}
      },
      "source": [
        ""
      ],
      "execution_count": 0,
      "outputs": []
    }
  ]
}